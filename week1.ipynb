{
  "nbformat": 4,
  "nbformat_minor": 0,
  "metadata": {
    "colab": {
      "private_outputs": true,
      "provenance": [],
      "gpuType": "T4",
      "authorship_tag": "ABX9TyMSNMj1GXL6UpjPJ77N2DOA",
      "include_colab_link": true
    },
    "kernelspec": {
      "name": "python3",
      "display_name": "Python 3"
    },
    "language_info": {
      "name": "python"
    },
    "accelerator": "GPU"
  },
  "cells": [
    {
      "cell_type": "markdown",
      "metadata": {
        "id": "view-in-github",
        "colab_type": "text"
      },
      "source": [
        "<a href=\"https://colab.research.google.com/github/devil973/gamdev/blob/main/week1.ipynb\" target=\"_parent\"><img src=\"https://colab.research.google.com/assets/colab-badge.svg\" alt=\"Open In Colab\"/></a>"
      ]
    },
    {
      "cell_type": "code",
      "execution_count": null,
      "metadata": {
        "id": "fALdJuJ4gf9A"
      },
      "outputs": [],
      "source": [
        "import networkx as nx\n",
        "import matplotlib.pyplot as plt\n",
        "\n",
        "G = nx.Graph()\n",
        "\n",
        "edges_with_weights = [\n",
        "    (1, 2, 7.5),  # (node1, node2, weight)\n",
        "    (1, 3, 2.1),\n",
        "    (2, 4, 3.7),\n",
        "    (3, 4, 2.8),\n",
        "    (4, 5, 1.2),\n",
        "    (1, 4, 4.3),\n",
        "    (2, 5, 0.7)\n",
        "]\n",
        "G.add_weighted_edges_from(edges_with_weights)\n",
        "\n",
        "\n",
        "degree_centrality = nx.degree_centrality(G)\n",
        "print(\"Degree Centrality:\")\n",
        "for node, centrality in degree_centrality.items():\n",
        "    print(f\"Node {node}: {centrality:.2f}\")\n",
        "\n",
        "# Weighted Degree Centrality\n",
        "weighted_degree_centrality = {}\n",
        "for node in G.nodes:\n",
        "    weighted_degree = sum(weight for _, _, weight in G.edges(node, data=\"weight\"))\n",
        "    weighted_degree_centrality[node] = weighted_degree\n",
        "print(\"\\nWeighted Degree Centrality:\")\n",
        "for node, centrality in weighted_degree_centrality.items():\n",
        "    print(f\"Node {node}: {centrality:.2f}\")\n",
        "\n",
        "nx.draw_networkx_nodes(G, pos, node_color='lightblue', node_size=800)\n",
        "nx.draw_networkx_labels(G, pos, font_size=12)\n",
        "nx.draw_networkx_edges(G, pos, width=[weight for weight in weights], edge_color='gray')\n",
        "plt.title(\"Graph with Edge Thickness Representing Weights\", fontsize=14)\n",
        "plt.axis(\"off\")\n",
        "plt.show()\n",
        "\n"
      ]
    },
    {
      "cell_type": "code",
      "source": [
        "import networkx as nx\n",
        "import matplotlib.pyplot as plt\n",
        "\n",
        "G = nx.DiGraph()\n",
        "edges= [\n",
        "    (1, 2),  # (node1, node2, weight)\n",
        "    (1, 3),\n",
        "    (4, 2),\n",
        "    (4, 3),\n",
        "    (4, 5),\n",
        "    (1, 4),\n",
        "    (5, 2),\n",
        "    (3, 5),\n",
        "]\n",
        "G.add_edges_from(edges)\n",
        "print(\"Node\\tIn-Degree\\tOut-Degree\")\n",
        "for node in G.nodes():\n",
        "    in_deg = G.in_degree(node)  # Number of incoming edges\n",
        "    out_deg = G.out_degree(node)  # Number of outgoing edges\n",
        "    print(f\"{node}\\t{in_deg}\\t\\t{out_deg}\")\n",
        "plt.figure(figsize=(8, 6))\n",
        "pos = nx.spring_layout(G)\n",
        "nx.draw_networkx_nodes(G, pos, node_color='lightblue')\n",
        "nx.draw_networkx_labels(G, pos, font_size=12)\n",
        "nx.draw_networkx_edges(G, pos, edge_color='gray', width=2, arrowstyle='->', arrowsize=20)\n",
        "plt.title(\"Directed Graph without Weights\", fontsize=14)\n",
        "plt.show()\n",
        "\n"
      ],
      "metadata": {
        "id": "CFmar5rtiK73"
      },
      "execution_count": null,
      "outputs": []
    },
    {
      "cell_type": "code",
      "source": [
        "import networkx as nx\n",
        "import matplotlib.pyplot as plt\n",
        "\n",
        "G = nx.Graph()\n",
        "\n",
        "edges_comp_1 = [(1, 2), (2, 3), (3, 4), (4, 1), (2, 4)]\n",
        "G.add_edges_from(edges_comp_1)\n",
        "\n",
        "edges_comp_2 = [(5, 6), (6, 7), (7, 8), (8, 5), (6, 8)]\n",
        "G.add_edges_from(edges_comp_2)\n",
        "\n",
        "connected_components = list(nx.connected_components(G))\n",
        "\n",
        "print(\"Connected Components and Their Sizes:\")\n",
        "for i, component in enumerate(connected_components, start=1):\n",
        "    print(f\"Component {i}: Nodes = {component}, Size = {len(component)}\")\n",
        "\n",
        "\n",
        "pos = nx.spring_layout(G)\n",
        "plt.figure(figsize=(5, 4))\n",
        "nx.draw(G, pos, with_labels=True, node_color='lightblue', node_size=400, edge_color='gray')\n",
        "plt.title(\"Graph with Two Disconnected Components\")\n",
        "plt.show()\n"
      ],
      "metadata": {
        "id": "c2MD3hIMjxwp"
      },
      "execution_count": null,
      "outputs": []
    },
    {
      "cell_type": "code",
      "source": [],
      "metadata": {
        "id": "qBOn_Msks_bn"
      },
      "execution_count": null,
      "outputs": []
    }
  ]
}